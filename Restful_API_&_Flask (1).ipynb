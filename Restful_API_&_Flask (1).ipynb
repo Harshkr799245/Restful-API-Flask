{
  "nbformat": 4,
  "nbformat_minor": 0,
  "metadata": {
    "colab": {
      "provenance": []
    },
    "kernelspec": {
      "name": "python3",
      "display_name": "Python 3"
    },
    "language_info": {
      "name": "python"
    }
  },
  "cells": [
    {
      "cell_type": "markdown",
      "source": [
        "#Restful API & Flask"
      ],
      "metadata": {
        "id": "jC-d0Eb4GO0C"
      }
    },
    {
      "cell_type": "markdown",
      "source": [
        "1. What is a RESTful API.\n",
        "  - A RESTful API is an application programming interface that adheres to REST (Representational State Transfer) principles, using HTTP methods (GET, POST, PUT, DELETE) to perform operations on resources, typically represented in JSON format.\n",
        "\n",
        "2. Explain the concept of API specification.\n",
        "  - API specification is a detailed description of how an API works, including endpoints, request/response formats, authentication, error handling, and status codes. OpenAPI (formerly Swagger) is a popular tool for writing API specs.\n",
        "\n",
        "3.   What is Flask, and why is it popular for building APIs.\n",
        "  - Flask is a lightweight Python web framework. It’s popular because it's simple, flexible, and supports RESTful routing, making it ideal for building APIs quickly.\n",
        "\n",
        "\n",
        "4. What is routing in Flask.\n",
        "  - Routing maps URLs to functions in Flask using decorators like @app.route('/path'). It determines what content is shown when a user visits a specific URL.\n",
        "\n",
        "5.  How do you create a simple Flask application\n",
        "  \n",
        "```\n",
        "\n",
        "  from flask import Flask\n",
        "  app = Flask(__name__)\n",
        "\n",
        "   @app.route('/')\n",
        "   def home():\n",
        "    return \"Hello, Flask!\"\n",
        "\n",
        "   if __name__ == '__main__':\n",
        "    app.run(debug=True)\n",
        "   \n",
        "```\n",
        "\n",
        "6. What are HTTP methods used in RESTful APIs.\n",
        "  - Common methods include:\n",
        "\n",
        "  - GET – Retrieve data\n",
        "\n",
        "  - POST – Create data\n",
        "\n",
        "  - PUT – Update data\n",
        "\n",
        "  - DELETE – Delete data\n",
        "\n",
        "  - PATCH – Partially update data\n",
        "\n",
        "7. What is the purpose of the @app.route() decorator in Flask\n",
        "  - It binds a function to a URL route so that when the route is accessed, the function is executed.\n",
        "\n",
        "\n",
        "8. What is the difference between GET and POST HTTP methods.\n",
        "  - GET: Retrieves data, sent via URL, idempotent.\n",
        "\n",
        "  - POST: Submits data to be processed, sent in body, not idempotent.\n",
        "\n",
        "9.  How do you handle errors in Flask APIs.\n",
        "  - Use @app.errorhandler decorator:\n",
        "```\n",
        " @app.errorhandler(404)\n",
        "def not_found(e):\n",
        "    return {\"error\": \"Not found\"}, 404\n",
        "```\n",
        "\n",
        "10.  How do you connect Flask to a SQL database.\n",
        "  - Use Flask-SQLAlchemy:\n",
        "```\n",
        "from flask_sqlalchemy import SQLAlchemy\n",
        "app.config['SQLALCHEMY_DATABASE_URI'] = 'sqlite:///example.db'\n",
        "db = SQLAlchemy(app)\n",
        "```\n",
        "\n",
        "11. What is the role of Flask-SQLAlchemy.\n",
        "  - It provides ORM support to Flask apps, allowing Python classes to represent database tables.\n",
        "\n",
        "\n",
        "12.  What are Flask blueprints, and how are they useful.\n",
        "  - Flask blueprints are a way to organize Flask applications into modular, reusable components. They help structure large projects by allowing you to break down your application into smaller, manageable units, each with its own routes, templates, and static files. This makes it easier to collaborate, maintain, and scale Flask applications.Useful for large apps with modular structure\n",
        "\n",
        "13. What is the purpose of Flask's request object.\n",
        "  -  It allows access to incoming request data (e.g., form, JSON, args):\n",
        "```\n",
        "from flask import request\n",
        "data = request.json\n",
        "```\n",
        "\n",
        "14. How do you create a RESTful API endpoint using Flask.\n",
        "  -\n",
        "```\n",
        "@app.route('/api/data', methods=['GET'])\n",
        "def get_data():\n",
        "    return jsonify({\"message\": \"Data\"})\n",
        "```\n",
        "\n",
        "15.  What is the purpose of Flask's jsonify() function.\n",
        "  -  Flask's jsonify() function converts Python dictionaries or lists into JSON format and automatically sets the response's content type to application/json, making it ideal for creating REST APIs. This function simplifies returning JSON data in Flask routes, ensuring proper handling of JSON responses.\n",
        "\n",
        "16.  Explain Flask’s url_for() function.\n",
        "  - The url_for() function in Flask is used to generate a URL to a specific function dynamically. It takes the name of the view function as its first argument and any number of keyword arguments, each corresponding to a variable part of the URL rule.\n",
        "\n",
        "17.  How does Flask handle static files (CSS, JavaScript, etc.).\n",
        "  - Place files in the static folder. Access them via /static/filename.\n",
        "\n",
        "18. What is an API specification, and how does it help in building a Flask API.\n",
        "  - It acts as a contract and guide for developers, ensuring consistent usage and simplifying integration/testing.\n",
        "\n",
        "19. What are HTTP status codes, and why are they important in a Flask API.\n",
        "  - HTTP status codes are three-digit codes that indicate the outcome of a request to a web server. They provide crucial information about the success or failure of an operation, helping clients understand what happened. In a Flask API, these codes are essential for communicating the results of requests to the API.\n",
        "   \n",
        "20.  How do you handle POST requests in Flask.\n",
        "  -\n",
        "```\n",
        "@app.route('/submit', methods=['POST'])\n",
        "def submit():\n",
        "    data = request.json\n",
        "    return jsonify(data), 201\n",
        "```\n",
        "\n",
        "21. How would you secure a Flask API.\n",
        "  - Use authentication (e.g., JWT, OAuth)\n",
        "\n",
        "  -  HTTPS\n",
        "\n",
        "  -  Input validation\n",
        "\n",
        "  - Rate limiting\n",
        "22.  What is the significance of the Flask-RESTful extension.\n",
        "  - It simplifies building RESTful APIs using Flask by adding helpful abstractions like Resource classes and request parsing.\n",
        "\n",
        "23.  What is the role of Flask’s session object?\n",
        "- I Flask's session object is used to store data specific to a user across multiple requests—essentially, it allows you to maintain state between HTTP requests (which are stateless by default).\n"
      ],
      "metadata": {
        "id": "MDXtUoDoGcE5"
      }
    },
    {
      "cell_type": "markdown",
      "source": [
        "#Practical"
      ],
      "metadata": {
        "id": "z_nppLXDMv9Q"
      }
    },
    {
      "cell_type": "markdown",
      "source": [
        "1.  How do you create a basic Flask application."
      ],
      "metadata": {
        "id": "TWEWM7RbNSQe"
      }
    },
    {
      "cell_type": "code",
      "source": [
        "from flask import Flask\n",
        "app = Flask(__name__)\n",
        "\n",
        "@app.route('/')\n",
        "def home():\n",
        "    return \"Hello, Flask!\"\n",
        "\n",
        "if __name__ == '__main__':\n",
        "    app.run(debug=True)\n"
      ],
      "metadata": {
        "id": "xIVwmuyLPQhw"
      },
      "execution_count": null,
      "outputs": []
    },
    {
      "cell_type": "markdown",
      "source": [
        " 2. How do you serve static files like images or CSS in Flask.\n",
        " -  Place them in /static. Example:"
      ],
      "metadata": {
        "id": "uez0rrQANabV"
      }
    },
    {
      "cell_type": "code",
      "source": [
        "<link rel=\"stylesheet\" href=\"{{ url_for('static', filename='style.css') }}\">\n"
      ],
      "metadata": {
        "id": "n81ZoHPBPTn8"
      },
      "execution_count": null,
      "outputs": []
    },
    {
      "cell_type": "markdown",
      "source": [
        "3. How do you define different routes with different HTTP methods in Flask.\n",
        "  -"
      ],
      "metadata": {
        "id": "xPlJv0HrNfga"
      }
    },
    {
      "cell_type": "code",
      "source": [
        "@app.route('/user', methods=['GET', 'POST'])\n"
      ],
      "metadata": {
        "id": "hdADEC9-P4O8"
      },
      "execution_count": null,
      "outputs": []
    },
    {
      "cell_type": "markdown",
      "source": [
        "4. How do you render HTML templates in Flask."
      ],
      "metadata": {
        "id": "4lExvvXyNklq"
      }
    },
    {
      "cell_type": "code",
      "source": [
        "from flask import render_template\n",
        "return render_template('index.html')\n"
      ],
      "metadata": {
        "id": "dCMa1vlzP94T"
      },
      "execution_count": null,
      "outputs": []
    },
    {
      "cell_type": "markdown",
      "source": [
        "5.  How can you generate URLs for routes in Flask using url_for."
      ],
      "metadata": {
        "id": "N9SgkEmwNqxa"
      }
    },
    {
      "cell_type": "code",
      "source": [
        "url_for('function_name', param='value')\n"
      ],
      "metadata": {
        "id": "UM9OibRAQEIF"
      },
      "execution_count": null,
      "outputs": []
    },
    {
      "cell_type": "markdown",
      "source": [
        "6.  How do you handle forms in Flask."
      ],
      "metadata": {
        "id": "XJ_QCX8DNvxE"
      }
    },
    {
      "cell_type": "code",
      "source": [
        "from flask import Flask, request, render_template\n",
        "\n",
        "app = Flask(__name__)\n",
        "\n",
        "@app.route('/form', methods=['GET', 'POST'])\n",
        "def form():\n",
        "    if request.method == 'POST':\n",
        "        name = request.form['name']\n",
        "        return f'Hello, {name}!'\n",
        "    return '''\n",
        "        <form method=\"post\">\n",
        "            Name: <input type=\"text\" name=\"name\">\n",
        "            <input type=\"submit\">\n",
        "        </form>\n",
        "    '''\n",
        "\n",
        "if __name__ == '__main__':\n",
        "    app.run(debug=True)\n"
      ],
      "metadata": {
        "id": "b4nrDsPyQarr"
      },
      "execution_count": null,
      "outputs": []
    },
    {
      "cell_type": "markdown",
      "source": [
        "7.  How can you validate form data in Flask.\n",
        "  - Use WTForms or custom logic:"
      ],
      "metadata": {
        "id": "FUYb76K5N08G"
      }
    },
    {
      "cell_type": "code",
      "source": [
        "if not name:\n",
        "    error = \"Name is required\"\n"
      ],
      "metadata": {
        "id": "kHcrtGMTQdF_"
      },
      "execution_count": null,
      "outputs": []
    },
    {
      "cell_type": "markdown",
      "source": [
        "8. How do you manage sessions in Flask."
      ],
      "metadata": {
        "id": "pVZ6MORbN63z"
      }
    },
    {
      "cell_type": "code",
      "source": [
        "from flask import Flask, session, redirect, url_for, request\n",
        "\n",
        "app = Flask(__name__)\n",
        "app.secret_key = 'your_secret_key'  # Needed to encrypt session data\n",
        "\n",
        "@app.route('/')\n",
        "def index():\n",
        "    if 'username' in session:\n",
        "        return f'Logged in as {session[\"username\"]}'\n",
        "    return 'You are not logged in.'\n",
        "\n",
        "@app.route('/login', methods=['POST', 'GET'])\n",
        "def login():\n",
        "    if request.method == 'POST':\n",
        "        session['username'] = request.form['username']  # store username in session\n",
        "        return redirect(url_for('index'))\n",
        "    return '''\n",
        "        <form method=\"post\">\n",
        "            <input name=\"username\">\n",
        "            <input type=\"submit\">\n",
        "        </form>\n",
        "    '''\n",
        "\n",
        "@app.route('/logout')\n",
        "def logout():\n",
        "    session.pop('username', None)  # remove username from session\n",
        "    return redirect(url_for('index'))\n"
      ],
      "metadata": {
        "id": "I8bQG0H2RBKn"
      },
      "execution_count": null,
      "outputs": []
    },
    {
      "cell_type": "markdown",
      "source": [
        "9. How do you redirect to a different route in Flask."
      ],
      "metadata": {
        "id": "_-R2ple5OBAi"
      }
    },
    {
      "cell_type": "code",
      "source": [
        "from flask import redirect, url_for\n",
        "return redirect(url_for('home'))\n"
      ],
      "metadata": {
        "id": "9Crt2sY4RDCS"
      },
      "execution_count": null,
      "outputs": []
    },
    {
      "cell_type": "markdown",
      "source": [
        "10. How do you handle errors in Flask (e.g., 404).\n",
        "\n"
      ],
      "metadata": {
        "id": "IPX5QFEmOFqQ"
      }
    },
    {
      "cell_type": "code",
      "source": [
        "@app.errorhandler(404)\n",
        "def not_found(e):\n",
        "    return {\"error\": \"Not found\"}, 404\n"
      ],
      "metadata": {
        "id": "gzypG4s7RIr_"
      },
      "execution_count": null,
      "outputs": []
    },
    {
      "cell_type": "markdown",
      "source": [
        "11. How do you structure a Flask app using Blueprints."
      ],
      "metadata": {
        "id": "yYrmxXIyOLjx"
      }
    },
    {
      "cell_type": "code",
      "source": [
        "from flask import Blueprint\n",
        "admin_bp = Blueprint('admin', __name__, url_prefix='/admin')\n"
      ],
      "metadata": {
        "id": "mHtouL9yRSEZ"
      },
      "execution_count": null,
      "outputs": []
    },
    {
      "cell_type": "markdown",
      "source": [
        "12. How do you define a custom Jinja filter in Flask."
      ],
      "metadata": {
        "id": "lbS03BoeOQN4"
      }
    },
    {
      "cell_type": "code",
      "source": [
        "@app.template_filter('reverse')\n",
        "def reverse_filter(s):\n",
        "    return s[::-1]\n"
      ],
      "metadata": {
        "id": "9i1XwOzvReu6"
      },
      "execution_count": null,
      "outputs": []
    },
    {
      "cell_type": "markdown",
      "source": [
        "13. How can you redirect with query parameters in Flask."
      ],
      "metadata": {
        "id": "6hU8bzQ0ObKC"
      }
    },
    {
      "cell_type": "code",
      "source": [
        "return redirect(url_for('home', next='dashboard'))\n"
      ],
      "metadata": {
        "id": "jIMKvnkfRhxQ"
      },
      "execution_count": null,
      "outputs": []
    },
    {
      "cell_type": "markdown",
      "source": [
        "14. How do you return JSON responses in Flask."
      ],
      "metadata": {
        "id": "f07tCjTtOfuV"
      }
    },
    {
      "cell_type": "code",
      "source": [
        "from flask import Flask, jsonify\n",
        "\n",
        "app = Flask(__name__)\n",
        "\n",
        "@app.route('/data')\n",
        "def get_data():\n",
        "    data = {'name': 'ChatGPT', 'role': 'AI'}\n",
        "    return jsonify(data)\n"
      ],
      "metadata": {
        "id": "iaX67ZdMRkr9"
      },
      "execution_count": null,
      "outputs": []
    },
    {
      "cell_type": "markdown",
      "source": [
        "15. How do you capture URL parameters in Flask?"
      ],
      "metadata": {
        "id": "X9TamhnPOkq-"
      }
    },
    {
      "cell_type": "code",
      "source": [
        "from flask import Flask\n",
        "\n",
        "app = Flask(__name__)\n",
        "\n",
        "@app.route('/user/<username>')\n",
        "def show_user_profile(username):\n",
        "    return f'User: {username}'\n",
        "\n",
        "if __name__ == '__main__':\n",
        "    app.run(debug=True)\n"
      ],
      "metadata": {
        "id": "pzLnQZ__LeOj"
      },
      "execution_count": null,
      "outputs": []
    }
  ]
}